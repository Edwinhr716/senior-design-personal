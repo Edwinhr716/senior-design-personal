{
 "cells": [
  {
   "cell_type": "markdown",
   "metadata": {},
   "source": [
    "# General Workflow Pseudocode\n",
    "\n",
    "## Get the list of urls\n",
    "\n",
    "## Create directories to store graduation data and enrollment data\n",
    "\n",
    "## For each URL\n",
    "\n",
    "### Get the graduation data\n",
    "\n",
    "### Get url of dataUSA page, parse for location\n",
    "\n",
    "Can use ngram to divide the about page string into a list of sentences. Grab the first sentence and turn it into a list of words. Grab the last word of it (should be the state symbol). \n",
    "\n",
    "### Add location column to graduation data\n",
    "\n",
    "### Turn into CSV\n",
    "\n",
    "### Get enrollment data\n",
    "\n",
    "### Add location column to enrollment data\n",
    "\n",
    "### Slice so that it only includes that university's data\n",
    "\n",
    "### turn into CSV\n",
    "\n"
   ]
  },
  {
   "cell_type": "code",
   "execution_count": 1,
   "metadata": {},
   "outputs": [
    {
     "name": "stderr",
     "output_type": "stream",
     "text": [
      "[nltk_data] Downloading package punkt to\n",
      "[nltk_data]     C:\\Users\\edand\\AppData\\Roaming\\nltk_data...\n",
      "[nltk_data]   Package punkt is already up-to-date!\n"
     ]
    }
   ],
   "source": [
    "import requests\n",
    "import pandas as pd\n",
    "from selenium import webdriver\n",
    "from selenium.webdriver.common.action_chains import ActionChains\n",
    "from bs4 import BeautifulSoup\n",
    "from webdriver_manager.chrome import ChromeDriverManager\n",
    "from selenium.webdriver.common.keys import Keys\n",
    "import nltk\n",
    "nltk.download('punkt')\n",
    "from nltk import sent_tokenize, word_tokenize"
   ]
  },
  {
   "cell_type": "code",
   "execution_count": 6,
   "metadata": {},
   "outputs": [
    {
     "data": {
      "text/plain": [
       "'https://datausa.io/profile/university/carnegie-mellon-university'"
      ]
     },
     "execution_count": 6,
     "metadata": {},
     "output_type": "execute_result"
    }
   ],
   "source": [
    "\n",
    "#Enrollment Data\n",
    "response = requests.get(\"https://preview.datausa.io/api/data?University=211440,211440:parents&measures=Enrollment&drilldowns=IPEDS%20Race\")\n",
    "data = response.json()['data']\n",
    "df = pd.DataFrame(data)\n",
    "location_array = [\"TX\"]*len(df)\n",
    "df = pd.DataFrame(data)\n",
    "df[\"Location\"] = location_array\n",
    "university_name = df.iloc[18]['University']\n",
    "only_university = df.loc[df['University'] == university_name]\n",
    "university_name = only_university.iloc[0]['University']\n",
    "university_url = only_university.iloc[0]['Slug University']\n",
    "university_url = \"https://datausa.io/profile/university/\" + university_url\n",
    "university_url"
   ]
  },
  {
   "cell_type": "code",
   "execution_count": 60,
   "metadata": {},
   "outputs": [
    {
     "data": {
      "text/html": [
       "<div>\n",
       "<style scoped>\n",
       "    .dataframe tbody tr th:only-of-type {\n",
       "        vertical-align: middle;\n",
       "    }\n",
       "\n",
       "    .dataframe tbody tr th {\n",
       "        vertical-align: top;\n",
       "    }\n",
       "\n",
       "    .dataframe thead th {\n",
       "        text-align: right;\n",
       "    }\n",
       "</style>\n",
       "<table border=\"1\" class=\"dataframe\">\n",
       "  <thead>\n",
       "    <tr style=\"text-align: right;\">\n",
       "      <th></th>\n",
       "      <th>ID Gender</th>\n",
       "      <th>Gender</th>\n",
       "      <th>ID IPEDS Race</th>\n",
       "      <th>IPEDS Race</th>\n",
       "      <th>ID Year</th>\n",
       "      <th>Year</th>\n",
       "      <th>ID University</th>\n",
       "      <th>University</th>\n",
       "      <th>Graduation Rate</th>\n",
       "      <th>Number Of Finishers</th>\n",
       "      <th>Slug University</th>\n",
       "    </tr>\n",
       "  </thead>\n",
       "  <tbody>\n",
       "    <tr>\n",
       "      <th>0</th>\n",
       "      <td>1</td>\n",
       "      <td>Men</td>\n",
       "      <td>black</td>\n",
       "      <td>Black or African American</td>\n",
       "      <td>2020</td>\n",
       "      <td>2020</td>\n",
       "      <td>221768</td>\n",
       "      <td>The University of Tennessee-Martin</td>\n",
       "      <td>0.440000</td>\n",
       "      <td>22</td>\n",
       "      <td>the-university-of-tennessee-martin</td>\n",
       "    </tr>\n",
       "    <tr>\n",
       "      <th>1</th>\n",
       "      <td>1</td>\n",
       "      <td>Men</td>\n",
       "      <td>hispanic</td>\n",
       "      <td>Hispanic or Latino</td>\n",
       "      <td>2020</td>\n",
       "      <td>2020</td>\n",
       "      <td>221768</td>\n",
       "      <td>The University of Tennessee-Martin</td>\n",
       "      <td>0.384615</td>\n",
       "      <td>5</td>\n",
       "      <td>the-university-of-tennessee-martin</td>\n",
       "    </tr>\n",
       "    <tr>\n",
       "      <th>2</th>\n",
       "      <td>1</td>\n",
       "      <td>Men</td>\n",
       "      <td>multiracial</td>\n",
       "      <td>Two or More Races</td>\n",
       "      <td>2020</td>\n",
       "      <td>2020</td>\n",
       "      <td>221768</td>\n",
       "      <td>The University of Tennessee-Martin</td>\n",
       "      <td>0.368421</td>\n",
       "      <td>7</td>\n",
       "      <td>the-university-of-tennessee-martin</td>\n",
       "    </tr>\n",
       "    <tr>\n",
       "      <th>3</th>\n",
       "      <td>1</td>\n",
       "      <td>Men</td>\n",
       "      <td>nonresident</td>\n",
       "      <td>Non-resident Alien</td>\n",
       "      <td>2020</td>\n",
       "      <td>2020</td>\n",
       "      <td>221768</td>\n",
       "      <td>The University of Tennessee-Martin</td>\n",
       "      <td>0.647059</td>\n",
       "      <td>11</td>\n",
       "      <td>the-university-of-tennessee-martin</td>\n",
       "    </tr>\n",
       "    <tr>\n",
       "      <th>4</th>\n",
       "      <td>1</td>\n",
       "      <td>Men</td>\n",
       "      <td>white</td>\n",
       "      <td>White</td>\n",
       "      <td>2020</td>\n",
       "      <td>2020</td>\n",
       "      <td>221768</td>\n",
       "      <td>The University of Tennessee-Martin</td>\n",
       "      <td>0.501355</td>\n",
       "      <td>185</td>\n",
       "      <td>the-university-of-tennessee-martin</td>\n",
       "    </tr>\n",
       "    <tr>\n",
       "      <th>...</th>\n",
       "      <td>...</td>\n",
       "      <td>...</td>\n",
       "      <td>...</td>\n",
       "      <td>...</td>\n",
       "      <td>...</td>\n",
       "      <td>...</td>\n",
       "      <td>...</td>\n",
       "      <td>...</td>\n",
       "      <td>...</td>\n",
       "      <td>...</td>\n",
       "      <td>...</td>\n",
       "    </tr>\n",
       "    <tr>\n",
       "      <th>107</th>\n",
       "      <td>2</td>\n",
       "      <td>Women</td>\n",
       "      <td>black</td>\n",
       "      <td>Black or African American</td>\n",
       "      <td>2012</td>\n",
       "      <td>2012</td>\n",
       "      <td>228778</td>\n",
       "      <td>The University of Texas at Austin</td>\n",
       "      <td>0.735537</td>\n",
       "      <td>178</td>\n",
       "      <td>the-university-of-texas-at-austin</td>\n",
       "    </tr>\n",
       "    <tr>\n",
       "      <th>108</th>\n",
       "      <td>2</td>\n",
       "      <td>Women</td>\n",
       "      <td>hispanic</td>\n",
       "      <td>Hispanic or Latino</td>\n",
       "      <td>2012</td>\n",
       "      <td>2012</td>\n",
       "      <td>228778</td>\n",
       "      <td>The University of Texas at Austin</td>\n",
       "      <td>0.699468</td>\n",
       "      <td>526</td>\n",
       "      <td>the-university-of-texas-at-austin</td>\n",
       "    </tr>\n",
       "    <tr>\n",
       "      <th>109</th>\n",
       "      <td>2</td>\n",
       "      <td>Women</td>\n",
       "      <td>native</td>\n",
       "      <td>American Indian or Alaska Native</td>\n",
       "      <td>2012</td>\n",
       "      <td>2012</td>\n",
       "      <td>228778</td>\n",
       "      <td>The University of Texas at Austin</td>\n",
       "      <td>0.727273</td>\n",
       "      <td>16</td>\n",
       "      <td>the-university-of-texas-at-austin</td>\n",
       "    </tr>\n",
       "    <tr>\n",
       "      <th>110</th>\n",
       "      <td>2</td>\n",
       "      <td>Women</td>\n",
       "      <td>nonresident</td>\n",
       "      <td>Non-resident Alien</td>\n",
       "      <td>2012</td>\n",
       "      <td>2012</td>\n",
       "      <td>228778</td>\n",
       "      <td>The University of Texas at Austin</td>\n",
       "      <td>0.843137</td>\n",
       "      <td>86</td>\n",
       "      <td>the-university-of-texas-at-austin</td>\n",
       "    </tr>\n",
       "    <tr>\n",
       "      <th>111</th>\n",
       "      <td>2</td>\n",
       "      <td>Women</td>\n",
       "      <td>white</td>\n",
       "      <td>White</td>\n",
       "      <td>2012</td>\n",
       "      <td>2012</td>\n",
       "      <td>228778</td>\n",
       "      <td>The University of Texas at Austin</td>\n",
       "      <td>0.845595</td>\n",
       "      <td>1862</td>\n",
       "      <td>the-university-of-texas-at-austin</td>\n",
       "    </tr>\n",
       "  </tbody>\n",
       "</table>\n",
       "<p>271 rows × 11 columns</p>\n",
       "</div>"
      ],
      "text/plain": [
       "     ID Gender Gender ID IPEDS Race                        IPEDS Race  \\\n",
       "0            1    Men         black         Black or African American   \n",
       "1            1    Men      hispanic                Hispanic or Latino   \n",
       "2            1    Men   multiracial                 Two or More Races   \n",
       "3            1    Men   nonresident                Non-resident Alien   \n",
       "4            1    Men         white                             White   \n",
       "..         ...    ...           ...                               ...   \n",
       "107          2  Women         black         Black or African American   \n",
       "108          2  Women      hispanic                Hispanic or Latino   \n",
       "109          2  Women        native  American Indian or Alaska Native   \n",
       "110          2  Women   nonresident                Non-resident Alien   \n",
       "111          2  Women         white                             White   \n",
       "\n",
       "     ID Year  Year ID University                          University  \\\n",
       "0       2020  2020        221768  The University of Tennessee-Martin   \n",
       "1       2020  2020        221768  The University of Tennessee-Martin   \n",
       "2       2020  2020        221768  The University of Tennessee-Martin   \n",
       "3       2020  2020        221768  The University of Tennessee-Martin   \n",
       "4       2020  2020        221768  The University of Tennessee-Martin   \n",
       "..       ...   ...           ...                                 ...   \n",
       "107     2012  2012        228778   The University of Texas at Austin   \n",
       "108     2012  2012        228778   The University of Texas at Austin   \n",
       "109     2012  2012        228778   The University of Texas at Austin   \n",
       "110     2012  2012        228778   The University of Texas at Austin   \n",
       "111     2012  2012        228778   The University of Texas at Austin   \n",
       "\n",
       "     Graduation Rate  Number Of Finishers                     Slug University  \n",
       "0           0.440000                   22  the-university-of-tennessee-martin  \n",
       "1           0.384615                    5  the-university-of-tennessee-martin  \n",
       "2           0.368421                    7  the-university-of-tennessee-martin  \n",
       "3           0.647059                   11  the-university-of-tennessee-martin  \n",
       "4           0.501355                  185  the-university-of-tennessee-martin  \n",
       "..               ...                  ...                                 ...  \n",
       "107         0.735537                  178   the-university-of-texas-at-austin  \n",
       "108         0.699468                  526   the-university-of-texas-at-austin  \n",
       "109         0.727273                   16   the-university-of-texas-at-austin  \n",
       "110         0.843137                   86   the-university-of-texas-at-austin  \n",
       "111         0.845595                 1862   the-university-of-texas-at-austin  \n",
       "\n",
       "[271 rows x 11 columns]"
      ]
     },
     "execution_count": 60,
     "metadata": {},
     "output_type": "execute_result"
    }
   ],
   "source": [
    "#Graduation Data\n",
    "\n",
    "df1 = None\n",
    "\n",
    "response = requests.get(\"https://preview.datausa.io/api/data?University=221768&measures=Graduation Rate,Number Of Finishers&drilldowns=Gender,IPEDS Race&Number Of Finishers>=5\")\n",
    "\n",
    "data = response.json()[\"data\"]\n",
    "df1 = pd.DataFrame(data)\n",
    "\n",
    "response = requests.get(\"https://preview.datausa.io/api/data?University=211440&measures=Graduation Rate,Number Of Finishers&drilldowns=Gender,IPEDS Race&Number Of Finishers>=5\")\n",
    "data = response.json()[\"data\"]\n",
    "df2 = pd.DataFrame(data)\n",
    "df1  = pd.concat([df1, df2], axis=0)\n",
    "\n",
    "response = response = requests.get(\"https://preview.datausa.io/api/data?University=228778&measures=Graduation Rate,Number Of Finishers&drilldowns=Gender,IPEDS Race&Number Of Finishers>=5\")\n",
    "data = response.json()[\"data\"]\n",
    "df3 = pd.DataFrame(data)\n",
    "\n",
    "df1 = pd.concat([df1, df3], axis=0)\n",
    "df1\n"
   ]
  },
  {
   "cell_type": "code",
   "execution_count": 27,
   "metadata": {},
   "outputs": [
    {
     "name": "stderr",
     "output_type": "stream",
     "text": [
      "<ipython-input-27-e156fc3e86ae>:2: DeprecationWarning: executable_path has been deprecated, please pass in a Service object\n",
      "  driver = webdriver.Chrome(ChromeDriverManager().install())\n"
     ]
    },
    {
     "data": {
      "text/plain": [
       "'TX'"
      ]
     },
     "execution_count": 27,
     "metadata": {},
     "output_type": "execute_result"
    }
   ],
   "source": [
    "#Getting University State\n",
    "driver = webdriver.Chrome(ChromeDriverManager().install())\n",
    "driver.get('https://datausa.io/profile/university/the-university-of-texas-at-austin')\n",
    "html = driver.page_source\n",
    "soup = BeautifulSoup(html)\n",
    "hello = soup.find_all(\"p\")\n",
    "College_information_website = hello[2].text.strip()\n",
    "sentences = sent_tokenize(College_information_website)\n",
    "words_in_first_sentence = word_tokenize(sentences[0])\n",
    "words_in_first_sentence[len(words_in_first_sentence) - 2]"
   ]
  },
  {
   "cell_type": "code",
   "execution_count": 49,
   "metadata": {},
   "outputs": [
    {
     "name": "stderr",
     "output_type": "stream",
     "text": [
      "<ipython-input-49-550e46cfb449>:6: DeprecationWarning: executable_path has been deprecated, please pass in a Service object\n",
      "  driver = webdriver.Chrome(ChromeDriverManager().install(), options=options)\n"
     ]
    },
    {
     "ename": "JavascriptException",
     "evalue": "Message: javascript error: Cannot read properties of undefined (reading 'scrollIntoView')\n  (Session info: headless chrome=105.0.5195.127)\nStacktrace:\nBacktrace:\n\tOrdinal0 [0x00A1DF13+2219795]\n\tOrdinal0 [0x009B2841+1779777]\n\tOrdinal0 [0x008C423D+803389]\n\tOrdinal0 [0x008C6D04+814340]\n\tOrdinal0 [0x008C6BC2+814018]\n\tOrdinal0 [0x008C755F+816479]\n\tOrdinal0 [0x0091FC1B+1178651]\n\tOrdinal0 [0x0090E7FC+1107964]\n\tOrdinal0 [0x0091F192+1175954]\n\tOrdinal0 [0x0090E616+1107478]\n\tOrdinal0 [0x008E7F89+950153]\n\tOrdinal0 [0x008E8F56+954198]\n\tGetHandleVerifier [0x00D12CB2+3040210]\n\tGetHandleVerifier [0x00D02BB4+2974420]\n\tGetHandleVerifier [0x00AB6A0A+565546]\n\tGetHandleVerifier [0x00AB5680+560544]\n\tOrdinal0 [0x009B9A5C+1808988]\n\tOrdinal0 [0x009BE3A8+1827752]\n\tOrdinal0 [0x009BE495+1827989]\n\tOrdinal0 [0x009C80A4+1867940]\n\tBaseThreadInitThunk [0x7655FA29+25]\n\tRtlGetAppContainerNamedObjectPath [0x770F7B5E+286]\n\tRtlGetAppContainerNamedObjectPath [0x770F7B2E+238]\n",
     "output_type": "error",
     "traceback": [
      "\u001b[1;31m---------------------------------------------------------------------------\u001b[0m",
      "\u001b[1;31mJavascriptException\u001b[0m                       Traceback (most recent call last)",
      "\u001b[1;32m<ipython-input-49-550e46cfb449>\u001b[0m in \u001b[0;36m<module>\u001b[1;34m\u001b[0m\n\u001b[0;32m     12\u001b[0m \u001b[0melement\u001b[0m \u001b[1;33m=\u001b[0m  \u001b[0mdriver\u001b[0m\u001b[1;33m.\u001b[0m\u001b[0mfind_element\u001b[0m\u001b[1;33m(\u001b[0m\u001b[0mBy\u001b[0m\u001b[1;33m.\u001b[0m\u001b[0mCLASS_NAME\u001b[0m\u001b[1;33m,\u001b[0m \u001b[1;34m\"bp3-table-bottom-container\"\u001b[0m\u001b[1;33m)\u001b[0m\u001b[1;33m\u001b[0m\u001b[1;33m\u001b[0m\u001b[0m\n\u001b[0;32m     13\u001b[0m \u001b[0mhello\u001b[0m\u001b[1;33m\u001b[0m\u001b[1;33m\u001b[0m\u001b[0m\n\u001b[1;32m---> 14\u001b[1;33m \u001b[0mdriver\u001b[0m\u001b[1;33m.\u001b[0m\u001b[0mexecute_script\u001b[0m\u001b[1;33m(\u001b[0m\u001b[1;34m\"arguments[0].scrollIntoView();\"\u001b[0m\u001b[1;33m)\u001b[0m\u001b[1;33m\u001b[0m\u001b[1;33m\u001b[0m\u001b[0m\n\u001b[0m",
      "\u001b[1;32m~\\anaconda3\\lib\\site-packages\\selenium\\webdriver\\remote\\webdriver.py\u001b[0m in \u001b[0;36mexecute_script\u001b[1;34m(self, script, *args)\u001b[0m\n\u001b[0;32m    877\u001b[0m         \u001b[0mcommand\u001b[0m \u001b[1;33m=\u001b[0m \u001b[0mCommand\u001b[0m\u001b[1;33m.\u001b[0m\u001b[0mW3C_EXECUTE_SCRIPT\u001b[0m\u001b[1;33m\u001b[0m\u001b[1;33m\u001b[0m\u001b[0m\n\u001b[0;32m    878\u001b[0m \u001b[1;33m\u001b[0m\u001b[0m\n\u001b[1;32m--> 879\u001b[1;33m         return self.execute(command, {\n\u001b[0m\u001b[0;32m    880\u001b[0m             \u001b[1;34m'script'\u001b[0m\u001b[1;33m:\u001b[0m \u001b[0mscript\u001b[0m\u001b[1;33m,\u001b[0m\u001b[1;33m\u001b[0m\u001b[1;33m\u001b[0m\u001b[0m\n\u001b[0;32m    881\u001b[0m             'args': converted_args})['value']\n",
      "\u001b[1;32m~\\anaconda3\\lib\\site-packages\\selenium\\webdriver\\remote\\webdriver.py\u001b[0m in \u001b[0;36mexecute\u001b[1;34m(self, driver_command, params)\u001b[0m\n\u001b[0;32m    423\u001b[0m         \u001b[0mresponse\u001b[0m \u001b[1;33m=\u001b[0m \u001b[0mself\u001b[0m\u001b[1;33m.\u001b[0m\u001b[0mcommand_executor\u001b[0m\u001b[1;33m.\u001b[0m\u001b[0mexecute\u001b[0m\u001b[1;33m(\u001b[0m\u001b[0mdriver_command\u001b[0m\u001b[1;33m,\u001b[0m \u001b[0mparams\u001b[0m\u001b[1;33m)\u001b[0m\u001b[1;33m\u001b[0m\u001b[1;33m\u001b[0m\u001b[0m\n\u001b[0;32m    424\u001b[0m         \u001b[1;32mif\u001b[0m \u001b[0mresponse\u001b[0m\u001b[1;33m:\u001b[0m\u001b[1;33m\u001b[0m\u001b[1;33m\u001b[0m\u001b[0m\n\u001b[1;32m--> 425\u001b[1;33m             \u001b[0mself\u001b[0m\u001b[1;33m.\u001b[0m\u001b[0merror_handler\u001b[0m\u001b[1;33m.\u001b[0m\u001b[0mcheck_response\u001b[0m\u001b[1;33m(\u001b[0m\u001b[0mresponse\u001b[0m\u001b[1;33m)\u001b[0m\u001b[1;33m\u001b[0m\u001b[1;33m\u001b[0m\u001b[0m\n\u001b[0m\u001b[0;32m    426\u001b[0m             response['value'] = self._unwrap_value(\n\u001b[0;32m    427\u001b[0m                 response.get('value', None))\n",
      "\u001b[1;32m~\\anaconda3\\lib\\site-packages\\selenium\\webdriver\\remote\\errorhandler.py\u001b[0m in \u001b[0;36mcheck_response\u001b[1;34m(self, response)\u001b[0m\n\u001b[0;32m    245\u001b[0m                 \u001b[0malert_text\u001b[0m \u001b[1;33m=\u001b[0m \u001b[0mvalue\u001b[0m\u001b[1;33m[\u001b[0m\u001b[1;34m'alert'\u001b[0m\u001b[1;33m]\u001b[0m\u001b[1;33m.\u001b[0m\u001b[0mget\u001b[0m\u001b[1;33m(\u001b[0m\u001b[1;34m'text'\u001b[0m\u001b[1;33m)\u001b[0m\u001b[1;33m\u001b[0m\u001b[1;33m\u001b[0m\u001b[0m\n\u001b[0;32m    246\u001b[0m             \u001b[1;32mraise\u001b[0m \u001b[0mexception_class\u001b[0m\u001b[1;33m(\u001b[0m\u001b[0mmessage\u001b[0m\u001b[1;33m,\u001b[0m \u001b[0mscreen\u001b[0m\u001b[1;33m,\u001b[0m \u001b[0mstacktrace\u001b[0m\u001b[1;33m,\u001b[0m \u001b[0malert_text\u001b[0m\u001b[1;33m)\u001b[0m  \u001b[1;31m# type: ignore[call-arg]  # mypy is not smart enough here\u001b[0m\u001b[1;33m\u001b[0m\u001b[1;33m\u001b[0m\u001b[0m\n\u001b[1;32m--> 247\u001b[1;33m         \u001b[1;32mraise\u001b[0m \u001b[0mexception_class\u001b[0m\u001b[1;33m(\u001b[0m\u001b[0mmessage\u001b[0m\u001b[1;33m,\u001b[0m \u001b[0mscreen\u001b[0m\u001b[1;33m,\u001b[0m \u001b[0mstacktrace\u001b[0m\u001b[1;33m)\u001b[0m\u001b[1;33m\u001b[0m\u001b[1;33m\u001b[0m\u001b[0m\n\u001b[0m\u001b[0;32m    248\u001b[0m \u001b[1;33m\u001b[0m\u001b[0m\n\u001b[0;32m    249\u001b[0m     \u001b[1;32mdef\u001b[0m \u001b[0m_value_or_default\u001b[0m\u001b[1;33m(\u001b[0m\u001b[0mself\u001b[0m\u001b[1;33m,\u001b[0m \u001b[0mobj\u001b[0m\u001b[1;33m:\u001b[0m \u001b[0mMapping\u001b[0m\u001b[1;33m[\u001b[0m\u001b[0m_KT\u001b[0m\u001b[1;33m,\u001b[0m \u001b[0m_VT\u001b[0m\u001b[1;33m]\u001b[0m\u001b[1;33m,\u001b[0m \u001b[0mkey\u001b[0m\u001b[1;33m:\u001b[0m \u001b[0m_KT\u001b[0m\u001b[1;33m,\u001b[0m \u001b[0mdefault\u001b[0m\u001b[1;33m:\u001b[0m \u001b[0m_VT\u001b[0m\u001b[1;33m)\u001b[0m \u001b[1;33m->\u001b[0m \u001b[0m_VT\u001b[0m\u001b[1;33m:\u001b[0m\u001b[1;33m\u001b[0m\u001b[1;33m\u001b[0m\u001b[0m\n",
      "\u001b[1;31mJavascriptException\u001b[0m: Message: javascript error: Cannot read properties of undefined (reading 'scrollIntoView')\n  (Session info: headless chrome=105.0.5195.127)\nStacktrace:\nBacktrace:\n\tOrdinal0 [0x00A1DF13+2219795]\n\tOrdinal0 [0x009B2841+1779777]\n\tOrdinal0 [0x008C423D+803389]\n\tOrdinal0 [0x008C6D04+814340]\n\tOrdinal0 [0x008C6BC2+814018]\n\tOrdinal0 [0x008C755F+816479]\n\tOrdinal0 [0x0091FC1B+1178651]\n\tOrdinal0 [0x0090E7FC+1107964]\n\tOrdinal0 [0x0091F192+1175954]\n\tOrdinal0 [0x0090E616+1107478]\n\tOrdinal0 [0x008E7F89+950153]\n\tOrdinal0 [0x008E8F56+954198]\n\tGetHandleVerifier [0x00D12CB2+3040210]\n\tGetHandleVerifier [0x00D02BB4+2974420]\n\tGetHandleVerifier [0x00AB6A0A+565546]\n\tGetHandleVerifier [0x00AB5680+560544]\n\tOrdinal0 [0x009B9A5C+1808988]\n\tOrdinal0 [0x009BE3A8+1827752]\n\tOrdinal0 [0x009BE495+1827989]\n\tOrdinal0 [0x009C80A4+1867940]\n\tBaseThreadInitThunk [0x7655FA29+25]\n\tRtlGetAppContainerNamedObjectPath [0x770F7B5E+286]\n\tRtlGetAppContainerNamedObjectPath [0x770F7B2E+238]\n"
     ]
    }
   ],
   "source": [
    "#Get university IDs\n",
    "options = webdriver.ChromeOptions()\n",
    "options.add_argument('--headless')\n",
    "options.add_argument('--no-sandbox')\n",
    "options.add_argument('--disable-env-shm-usage')\n",
    "driver = webdriver.Chrome(ChromeDriverManager().install(), options=options)\n",
    "driver.get('https://datausa.io/about/classifications/University/University')\n",
    "html = driver.page_source\n",
    "soup = BeautifulSoup(html)\n",
    "hello = soup.find_all(\"div\", {\"class\" : \"bp3-table-truncated-text\"})\n",
    "hello2 = soup.find_all(\"div\", {\"class\" : \"bp3-table-bottom-container\"})\n",
    "element =  driver.find_element(By.CLASS_NAME, \"bp3-table-bottom-container\")"
   ]
  },
  {
   "cell_type": "code",
   "execution_count": 41,
   "metadata": {},
   "outputs": [
    {
     "data": {
      "text/plain": [
       "58925"
      ]
     },
     "execution_count": 41,
     "metadata": {},
     "output_type": "execute_result"
    }
   ],
   "source": [
    "\n",
    "\n",
    "\n",
    "\n"
   ]
  },
  {
   "cell_type": "code",
   "execution_count": 48,
   "metadata": {},
   "outputs": [
    {
     "name": "stdout",
     "output_type": "stream",
     "text": [
      "its here\n"
     ]
    }
   ],
   "source": [
    "ids = set()\n",
    "\n",
    "response = requests.get(f\"https://datausa.io/api/data?Geography=04000US00&measures=Completions&drilldowns=Sector,University\")\n",
    "data = response.json()[\"data\"]\n",
    "\n",
    "for university in data:\n",
    "    ids.add(university[\"ID University\"])\n",
    "\n"
   ]
  },
  {
   "cell_type": "code",
   "execution_count": 56,
   "metadata": {},
   "outputs": [
    {
     "data": {
      "text/plain": [
       "4399"
      ]
     },
     "execution_count": 56,
     "metadata": {},
     "output_type": "execute_result"
    }
   ],
   "source": [
    "df = pd.read_csv(\"graduation_data.csv\")\n",
    "len(df.University.unique())"
   ]
  },
  {
   "cell_type": "code",
   "execution_count": 57,
   "metadata": {},
   "outputs": [
    {
     "data": {
      "text/plain": [
       "4397"
      ]
     },
     "execution_count": 57,
     "metadata": {},
     "output_type": "execute_result"
    }
   ],
   "source": [
    "df = pd.read_csv(\"enrollment_data.csv\")\n",
    "len(df.University.unique())"
   ]
  },
  {
   "cell_type": "code",
   "execution_count": null,
   "metadata": {},
   "outputs": [],
   "source": []
  }
 ],
 "metadata": {
  "kernelspec": {
   "display_name": "Python 3",
   "language": "python",
   "name": "python3"
  },
  "language_info": {
   "codemirror_mode": {
    "name": "ipython",
    "version": 3
   },
   "file_extension": ".py",
   "mimetype": "text/x-python",
   "name": "python",
   "nbconvert_exporter": "python",
   "pygments_lexer": "ipython3",
   "version": "3.8.5"
  }
 },
 "nbformat": 4,
 "nbformat_minor": 5
}
